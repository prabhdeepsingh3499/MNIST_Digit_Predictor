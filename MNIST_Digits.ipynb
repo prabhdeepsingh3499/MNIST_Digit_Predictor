{
 "cells": [
  {
   "cell_type": "markdown",
   "metadata": {},
   "source": [
    "### Importing the Libraries"
   ]
  },
  {
   "cell_type": "code",
   "execution_count": 1,
   "metadata": {},
   "outputs": [],
   "source": [
    "from warnings import filterwarnings\n",
    "filterwarnings('ignore')"
   ]
  },
  {
   "cell_type": "code",
   "execution_count": 2,
   "metadata": {},
   "outputs": [
    {
     "name": "stderr",
     "output_type": "stream",
     "text": [
      "Using TensorFlow backend.\n"
     ]
    }
   ],
   "source": [
    "import keras\n",
    "from keras.datasets import mnist\n",
    "import matplotlib.pyplot as plt\n",
    "import numpy as np"
   ]
  },
  {
   "cell_type": "markdown",
   "metadata": {},
   "source": [
    "### importing and Splitting the data"
   ]
  },
  {
   "cell_type": "code",
   "execution_count": 3,
   "metadata": {},
   "outputs": [],
   "source": [
    "(X_train,y_train),(X_test,y_test) = mnist.load_data()"
   ]
  },
  {
   "cell_type": "code",
   "execution_count": 4,
   "metadata": {},
   "outputs": [
    {
     "name": "stdout",
     "output_type": "stream",
     "text": [
      "(60000, 28, 28) (60000,)\n",
      "(10000, 28, 28) (10000,)\n"
     ]
    }
   ],
   "source": [
    "print(X_train.shape,y_train.shape)\n",
    "print(X_test.shape,y_test.shape)"
   ]
  },
  {
   "cell_type": "markdown",
   "metadata": {},
   "source": [
    "### Viewing an image"
   ]
  },
  {
   "cell_type": "code",
   "execution_count": 5,
   "metadata": {},
   "outputs": [
    {
     "data": {
      "image/png": "[encoded data removed]",
      "text/plain": [
       "<Figure size 288x288 with 1 Axes>"
      ]
     },
     "metadata": {
      "needs_background": "light"
     },
     "output_type": "display_data"
    },
    {
     "name": "stdout",
     "output_type": "stream",
     "text": [
      "0\n"
     ]
    }
   ],
   "source": [
    "plt.matshow(X_train[1])\n",
    "plt.show()\n",
    "print(y_train[1])"
   ]
  },
  {
   "cell_type": "markdown",
   "metadata": {},
   "source": [
    "### Normalizing the Image"
   ]
  },
  {
   "cell_type": "code",
   "execution_count": 6,
   "metadata": {},
   "outputs": [],
   "source": [
    "X_train=X_train/255\n",
    "X_test=X_test/255"
   ]
  },
  {
   "cell_type": "markdown",
   "metadata": {},
   "source": [
    "### Importing Sequential Model and Layers of model"
   ]
  },
  {
   "cell_type": "code",
   "execution_count": 7,
   "metadata": {},
   "outputs": [],
   "source": [
    "from keras.models import Sequential\n",
    "from keras.layers import Dense,Activation, Flatten"
   ]
  },
  {
   "cell_type": "code",
   "execution_count": 8,
   "metadata": {},
   "outputs": [
    {
     "name": "stderr",
     "output_type": "stream",
     "text": [
      "WARNING: Logging before flag parsing goes to stderr.\n",
      "W0712 15:37:38.213958 14556 deprecation_wrapper.py:119] From c:\\users\\hp\\appdata\\local\\programs\\python\\python37\\lib\\site-packages\\keras\\backend\\tensorflow_backend.py:74: The name tf.get_default_graph is deprecated. Please use tf.compat.v1.get_default_graph instead.\n",
      "\n"
     ]
    }
   ],
   "source": [
    "model=Sequential()"
   ]
  },
  {
   "cell_type": "code",
   "execution_count": 9,
   "metadata": {},
   "outputs": [
    {
     "name": "stderr",
     "output_type": "stream",
     "text": [
      "W0712 15:37:38.812458 14556 deprecation_wrapper.py:119] From c:\\users\\hp\\appdata\\local\\programs\\python\\python37\\lib\\site-packages\\keras\\backend\\tensorflow_backend.py:517: The name tf.placeholder is deprecated. Please use tf.compat.v1.placeholder instead.\n",
      "\n",
      "W0712 15:37:38.822431 14556 deprecation_wrapper.py:119] From c:\\users\\hp\\appdata\\local\\programs\\python\\python37\\lib\\site-packages\\keras\\backend\\tensorflow_backend.py:4138: The name tf.random_uniform is deprecated. Please use tf.random.uniform instead.\n",
      "\n"
     ]
    }
   ],
   "source": [
    "model.add(Flatten(input_shape=[28, 28]))\n",
    "model.add(Dense(20,activation='relu'))\n",
    "model.add(Dense(10,activation='softmax'))"
   ]
  },
  {
   "cell_type": "code",
   "execution_count": 10,
   "metadata": {},
   "outputs": [
    {
     "name": "stdout",
     "output_type": "stream",
     "text": [
      "_________________________________________________________________\n",
      "Layer (type)                 Output Shape              Param #   \n",
      "=================================================================\n",
      "flatten_1 (Flatten)          (None, 784)               0         \n",
      "_________________________________________________________________\n",
      "dense_1 (Dense)              (None, 20)                15700     \n",
      "_________________________________________________________________\n",
      "dense_2 (Dense)              (None, 10)                210       \n",
      "=================================================================\n",
      "Total params: 15,910\n",
      "Trainable params: 15,910\n",
      "Non-trainable params: 0\n",
      "_________________________________________________________________\n"
     ]
    }
   ],
   "source": [
    "model.summary()"
   ]
  },
  {
   "cell_type": "code",
   "execution_count": 11,
   "metadata": {},
   "outputs": [
    {
     "name": "stderr",
     "output_type": "stream",
     "text": [
      "W0712 15:37:39.979121 14556 deprecation_wrapper.py:119] From c:\\users\\hp\\appdata\\local\\programs\\python\\python37\\lib\\site-packages\\keras\\optimizers.py:790: The name tf.train.Optimizer is deprecated. Please use tf.compat.v1.train.Optimizer instead.\n",
      "\n",
      "W0712 15:37:39.996076 14556 deprecation_wrapper.py:119] From c:\\users\\hp\\appdata\\local\\programs\\python\\python37\\lib\\site-packages\\keras\\backend\\tensorflow_backend.py:3341: The name tf.log is deprecated. Please use tf.math.log instead.\n",
      "\n"
     ]
    }
   ],
   "source": [
    "model.compile(loss='sparse_categorical_crossentropy',optimizer='adam',metrics=['accuracy'])"
   ]
  },
  {
   "cell_type": "code",
   "execution_count": 12,
   "metadata": {},
   "outputs": [
    {
     "name": "stderr",
     "output_type": "stream",
     "text": [
      "W0712 15:37:40.770106 14556 deprecation.py:323] From c:\\users\\hp\\appdata\\local\\programs\\python\\python37\\lib\\site-packages\\tensorflow\\python\\ops\\math_grad.py:1250: add_dispatch_support.<locals>.wrapper (from tensorflow.python.ops.array_ops) is deprecated and will be removed in a future version.\n",
      "Instructions for updating:\n",
      "Use tf.where in 2.0, which has the same broadcast rule as np.where\n",
      "W0712 15:37:40.793042 14556 deprecation_wrapper.py:119] From c:\\users\\hp\\appdata\\local\\programs\\python\\python37\\lib\\site-packages\\keras\\backend\\tensorflow_backend.py:986: The name tf.assign_add is deprecated. Please use tf.compat.v1.assign_add instead.\n",
      "\n"
     ]
    },
    {
     "name": "stdout",
     "output_type": "stream",
     "text": [
      "Epoch 1/50\n",
      "60000/60000 [==============================] - 7s 110us/step - loss: 0.3256 - acc: 0.9078\n",
      "Epoch 2/50\n",
      "60000/60000 [==============================] - 6s 107us/step - loss: 0.1933 - acc: 0.9438\n",
      "Epoch 3/50\n",
      "60000/60000 [==============================] - 6s 108us/step - loss: 0.1579 - acc: 0.9531\n",
      "Epoch 4/50\n",
      "60000/60000 [==============================] - 7s 110us/step - loss: 0.1384 - acc: 0.9581\n",
      "Epoch 5/50\n",
      "60000/60000 [==============================] - 7s 112us/step - loss: 0.1251 - acc: 0.9626\n",
      "Epoch 6/50\n",
      "60000/60000 [==============================] - 7s 112us/step - loss: 0.1175 - acc: 0.9642\n",
      "Epoch 7/50\n",
      "60000/60000 [==============================] - 7s 113us/step - loss: 0.1105 - acc: 0.9660\n",
      "Epoch 8/50\n",
      "60000/60000 [==============================] - 7s 116us/step - loss: 0.1044 - acc: 0.9673\n",
      "Epoch 9/50\n",
      "60000/60000 [==============================] - 7s 111us/step - loss: 0.1002 - acc: 0.9695\n",
      "Epoch 10/50\n",
      "60000/60000 [==============================] - 7s 111us/step - loss: 0.0959 - acc: 0.9702\n",
      "Epoch 11/50\n",
      "60000/60000 [==============================] - 7s 110us/step - loss: 0.0929 - acc: 0.9712\n",
      "Epoch 12/50\n",
      "60000/60000 [==============================] - 6s 101us/step - loss: 0.0886 - acc: 0.9723\n",
      "Epoch 13/50\n",
      "60000/60000 [==============================] - 6s 103us/step - loss: 0.0867 - acc: 0.9731\n",
      "Epoch 14/50\n",
      "60000/60000 [==============================] - 6s 100us/step - loss: 0.0828 - acc: 0.9744\n",
      "Epoch 15/50\n",
      "60000/60000 [==============================] - 6s 101us/step - loss: 0.0816 - acc: 0.9751\n",
      "Epoch 16/50\n",
      "60000/60000 [==============================] - 6s 100us/step - loss: 0.0796 - acc: 0.9749\n",
      "Epoch 17/50\n",
      "60000/60000 [==============================] - 6s 101us/step - loss: 0.0764 - acc: 0.9762\n",
      "Epoch 18/50\n",
      "60000/60000 [==============================] - 6s 102us/step - loss: 0.0743 - acc: 0.9763\n",
      "Epoch 19/50\n",
      "60000/60000 [==============================] - 6s 102us/step - loss: 0.0730 - acc: 0.9765\n",
      "Epoch 20/50\n",
      "60000/60000 [==============================] - 6s 102us/step - loss: 0.0714 - acc: 0.9769\n",
      "Epoch 21/50\n",
      "60000/60000 [==============================] - 6s 103us/step - loss: 0.0703 - acc: 0.9779\n",
      "Epoch 22/50\n",
      "60000/60000 [==============================] - 6s 102us/step - loss: 0.0676 - acc: 0.9789\n",
      "Epoch 23/50\n",
      "60000/60000 [==============================] - 6s 99us/step - loss: 0.0663 - acc: 0.9786\n",
      "Epoch 24/50\n",
      "60000/60000 [==============================] - 6s 104us/step - loss: 0.0650 - acc: 0.9796\n",
      "Epoch 25/50\n",
      "60000/60000 [==============================] - 6s 108us/step - loss: 0.0649 - acc: 0.9793\n",
      "Epoch 26/50\n",
      "60000/60000 [==============================] - 6s 102us/step - loss: 0.0631 - acc: 0.9798\n",
      "Epoch 27/50\n",
      "60000/60000 [==============================] - 6s 104us/step - loss: 0.0616 - acc: 0.9806\n",
      "Epoch 28/50\n",
      "60000/60000 [==============================] - 6s 105us/step - loss: 0.0609 - acc: 0.9805\n",
      "Epoch 29/50\n",
      "60000/60000 [==============================] - 6s 104us/step - loss: 0.0600 - acc: 0.9808\n",
      "Epoch 30/50\n",
      "60000/60000 [==============================] - 6s 106us/step - loss: 0.0590 - acc: 0.9808\n",
      "Epoch 31/50\n",
      "60000/60000 [==============================] - 7s 111us/step - loss: 0.0576 - acc: 0.9818\n",
      "Epoch 32/50\n",
      "60000/60000 [==============================] - 8s 132us/step - loss: 0.0575 - acc: 0.9818\n",
      "Epoch 33/50\n",
      "60000/60000 [==============================] - 6s 101us/step - loss: 0.0545 - acc: 0.9827\n",
      "Epoch 34/50\n",
      "60000/60000 [==============================] - 6s 100us/step - loss: 0.0552 - acc: 0.9827\n",
      "Epoch 35/50\n",
      "60000/60000 [==============================] - 6s 101us/step - loss: 0.0544 - acc: 0.9828\n",
      "Epoch 36/50\n",
      "60000/60000 [==============================] - 6s 101us/step - loss: 0.0530 - acc: 0.9827\n",
      "Epoch 37/50\n",
      "60000/60000 [==============================] - 6s 102us/step - loss: 0.0532 - acc: 0.9833\n",
      "Epoch 38/50\n",
      "60000/60000 [==============================] - 6s 99us/step - loss: 0.0507 - acc: 0.9834\n",
      "Epoch 39/50\n",
      "60000/60000 [==============================] - 6s 96us/step - loss: 0.0511 - acc: 0.9834\n",
      "Epoch 40/50\n",
      "60000/60000 [==============================] - 6s 99us/step - loss: 0.0491 - acc: 0.9840\n",
      "Epoch 41/50\n",
      "60000/60000 [==============================] - 6s 94us/step - loss: 0.0492 - acc: 0.9843\n",
      "Epoch 42/50\n",
      "60000/60000 [==============================] - 6s 98us/step - loss: 0.0475 - acc: 0.9850\n",
      "Epoch 43/50\n",
      "60000/60000 [==============================] - 6s 97us/step - loss: 0.0480 - acc: 0.9847\n",
      "Epoch 44/50\n",
      "60000/60000 [==============================] - 6s 100us/step - loss: 0.0464 - acc: 0.9854\n",
      "Epoch 45/50\n",
      "60000/60000 [==============================] - 6s 104us/step - loss: 0.0467 - acc: 0.9848\n",
      "Epoch 46/50\n",
      "60000/60000 [==============================] - 6s 103us/step - loss: 0.0467 - acc: 0.9845\n",
      "Epoch 47/50\n",
      "60000/60000 [==============================] - 6s 97us/step - loss: 0.0446 - acc: 0.9861\n",
      "Epoch 48/50\n",
      "60000/60000 [==============================] - 6s 99us/step - loss: 0.0445 - acc: 0.9855\n",
      "Epoch 49/50\n",
      "60000/60000 [==============================] - 6s 99us/step - loss: 0.0435 - acc: 0.9860\n",
      "Epoch 50/50\n",
      "60000/60000 [==============================] - 6s 100us/step - loss: 0.0436 - acc: 0.9859\n"
     ]
    },
    {
     "data": {
      "text/plain": [
       "<keras.callbacks.History at 0x299dfb633c8>"
      ]
     },
     "execution_count": 12,
     "metadata": {},
     "output_type": "execute_result"
    }
   ],
   "source": [
    "model.fit(X_train, y_train,epochs=50,batch_size=10)"
   ]
  },
  {
   "cell_type": "code",
   "execution_count": 13,
   "metadata": {},
   "outputs": [
    {
     "name": "stdout",
     "output_type": "stream",
     "text": [
      "10000/10000 [==============================] - 0s 22us/step\n"
     ]
    },
    {
     "data": {
      "text/plain": [
       "[0.22486862635879953, 0.9549]"
      ]
     },
     "execution_count": 13,
     "metadata": {},
     "output_type": "execute_result"
    }
   ],
   "source": [
    "model.evaluate(X_test, y_test)"
   ]
  },
  {
   "cell_type": "code",
   "execution_count": 14,
   "metadata": {},
   "outputs": [],
   "source": [
    "y_pred = model.predict(X_test)"
   ]
  },
  {
   "cell_type": "code",
   "execution_count": 15,
   "metadata": {},
   "outputs": [
    {
     "data": {
      "text/plain": [
       "<matplotlib.image.AxesImage at 0x299dff20860>"
      ]
     },
     "execution_count": 15,
     "metadata": {},
     "output_type": "execute_result"
    },
    {
     "data": {
      "image/png": "[encoded data removed]",
      "text/plain": [
       "<Figure size 288x288 with 1 Axes>"
      ]
     },
     "metadata": {
      "needs_background": "light"
     },
     "output_type": "display_data"
    }
   ],
   "source": [
    "plt.matshow(X_test[0])"
   ]
  },
  {
   "cell_type": "code",
   "execution_count": 16,
   "metadata": {},
   "outputs": [
    {
     "data": {
      "text/plain": [
       "7"
      ]
     },
     "execution_count": 16,
     "metadata": {},
     "output_type": "execute_result"
    }
   ],
   "source": [
    "np.argmax(y_pred[0])"
   ]
  },
  {
   "cell_type": "code",
   "execution_count": null,
   "metadata": {},
   "outputs": [],
   "source": []
  }
 ],
 "metadata": {
  "kernelspec": {
   "display_name": "Python 3",
   "language": "python",
   "name": "python3"
  },
  "language_info": {
   "codemirror_mode": {
    "name": "ipython",
    "version": 3
   },
   "file_extension": ".py",
   "mimetype": "text/x-python",
   "name": "python",
   "nbconvert_exporter": "python",
   "pygments_lexer": "ipython3",
   "version": "3.7.3"
  }
 },
 "nbformat": 4,
 "nbformat_minor": 2
}
